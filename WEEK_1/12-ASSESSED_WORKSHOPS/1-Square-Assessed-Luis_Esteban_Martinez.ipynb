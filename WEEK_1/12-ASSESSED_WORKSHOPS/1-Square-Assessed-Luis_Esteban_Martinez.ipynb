{
 "cells": [
  {
   "cell_type": "markdown",
   "metadata": {},
   "source": [
    "<img align=\"right\" src=\"../img/square_240.png\" />\n",
    "## Exercise: Square Test.\n",
    "\n",
    "You are going to make a program for describing a square trajectory with the robot.\n",
    "\n",
    "Instead of starting to code from scratch, you are going to reuse the code that you developed for the distance and turning exercises.\n"
   ]
  },
  {
   "cell_type": "markdown",
   "metadata": {},
   "source": [
    "<img align=\"right\" src=\"../img/reload.png\" />\n",
    "### 1. Starting position\n",
    "For a better visual understanding of the task, it is recommended that the robot starts at the center of the room. \n",
    "\n",
    "You can easily relocate the robot there by simply restarting the simulation, by clicking on the second icon of the button bar, as depicted in the figure."
   ]
  },
  {
   "cell_type": "markdown",
   "metadata": {},
   "source": [
    "### 2. Initialization\n",
    "After restarting the simulation, the robot needs to be initialized."
   ]
  },
  {
   "cell_type": "code",
   "execution_count": 107,
   "metadata": {
    "collapsed": false
   },
   "outputs": [],
   "source": [
    "import packages.initialization\n",
    "import pioneer3dx as p3dx\n",
    "p3dx.init()"
   ]
  },
  {
   "cell_type": "markdown",
   "metadata": {},
   "source": [
    "\n",
    "### 3. Program\n",
    "\n",
    "The code is structured in three parts:\n",
    "1. The first part is a function for moving forward: you must copy and paste the code of the [distance exercise](Distance.ipynb) inside the body of the function template, in the following cell.\n",
    "2. The second part is a similar function for turning, where you can copy and paste the code of the [angle exercise](Angle.ipynb).\n",
    "3. Finally, the third part is the main code, consisting of a loop that calls the previous functions four times. The code also displays the pose of the robot (position and orientation) before and after the motion."
   ]
  },
  {
   "cell_type": "code",
   "execution_count": 108,
   "metadata": {
    "collapsed": false
   },
   "outputs": [],
   "source": [
    "def forward():\n",
    "    # copy and paste your code here  \n",
    "    target = 2        # target distance\n",
    "    radius = 0.09765  # wheel radius\n",
    "    initialEncoder = p3dx.rightEncoder\n",
    "    distance = 0\n",
    "    while distance < target:\n",
    "        p3dx.move(2.5,2.5)\n",
    "        angle = p3dx.rightEncoder - initialEncoder\n",
    "        distance = radius * angle\n",
    "    p3dx.stop()\n"
   ]
  },
  {
   "cell_type": "code",
   "execution_count": 109,
   "metadata": {
    "collapsed": false
   },
   "outputs": [],
   "source": [
    "def turn():\n",
    "    # copy and paste your code here\n",
    "    target = 1.57     # target angle in radians\n",
    "    r = 0.09765        # wheel radius\n",
    "    L = 0.33           # axis length\n",
    "    initialEncoder = p3dx.leftEncoder\n",
    "    robotAngle = 0\n",
    "    while robotAngle < target:\n",
    "        p3dx.move(1.0,-1.0)\n",
    "        wheelAngle = p3dx.leftEncoder - initialEncoder\n",
    "        robotAngle = r*wheelAngle*2/L\n",
    "    p3dx.stop()"
   ]
  },
  {
   "cell_type": "code",
   "execution_count": 110,
   "metadata": {
    "collapsed": false
   },
   "outputs": [
    {
     "name": "stdout",
     "output_type": "stream",
     "text": [
      "Pose of the robot at the start\n",
      "x:   0.00\n",
      "y:   0.00\n",
      "th: -1.57\n",
      "Pose of the robot at the end\n",
      "x:   0.10\n",
      "y:  -0.04\n",
      "th: -1.63\n"
     ]
    }
   ],
   "source": [
    "print('Pose of the robot at the start')\n",
    "p3dx.pose()\n",
    "for _ in range(4):\n",
    "    forward()\n",
    "    turn()\n",
    "print('Pose of the robot at the end')\n",
    "p3dx.pose()"
   ]
  },
  {
   "cell_type": "markdown",
   "metadata": {},
   "source": [
    "The trajectory can also be displayed:"
   ]
  },
  {
   "cell_type": "code",
   "execution_count": 111,
   "metadata": {
    "collapsed": false
   },
   "outputs": [
    {
     "data": {
      "image/png": "[encoded data removed]",
      "text/plain": [
       "<matplotlib.figure.Figure at 0x7f1b3779b150>"
      ]
     },
     "metadata": {},
     "output_type": "display_data"
    }
   ],
   "source": [
    "%matplotlib inline                \n",
    "import matplotlib.pyplot as plt   # WARNING: the first time, this import can take up to 30 seconds\n",
    "x, y = p3dx.trajectory()          # because of font cache building, please be patient and wait\n",
    "plt.plot(x,y);"
   ]
  },
  {
   "cell_type": "markdown",
   "metadata": {},
   "source": [
    "Next exercise: [Robot Speed](Robot%20Speed.ipynb)"
   ]
  },
  {
   "cell_type": "markdown",
   "metadata": {
    "collapsed": true
   },
   "source": [
    "---\n",
    "#### Try-a-Bot: an open source guide for robot programming\n",
    "Developed by:\n",
    "[![Robotic Intelligence Lab @ UJI](img/logo/robinlab.png \"Robotic Intelligence Lab @ UJI\")](http://robinlab.uji.es)\n",
    "\n",
    "Sponsored by:\n",
    "<table>\n",
    "<tr>\n",
    "<td style=\"border:1px solid #ffffff ;\">\n",
    "<a href=\"http://www.ieee-ras.org\"><img src=\"img/logo/ras.png\"></a>\n",
    "</td>\n",
    "<td style=\"border:1px solid #ffffff ;\">\n",
    "<a href=\"http://www.cyberbotics.com\"><img src=\"img/logo/cyberbotics.png\"></a>\n",
    "</td>\n",
    "<td style=\"border:1px solid #ffffff ;\">\n",
    "<a href=\"http://www.theconstructsim.com\"><img src=\"img/logo/theconstruct.png\"></a>\n",
    "</td>\n",
    "</tr>\n",
    "</table>\n",
    "\n",
    "Follow us:\n",
    "<table>\n",
    "<tr>\n",
    "<td style=\"border:1px solid #ffffff ;\">\n",
    "<a href=\"https://www.facebook.com/RobotProgrammingNetwork\"><img src=\"img/logo/facebook.png\"></a>\n",
    "</td>\n",
    "<td style=\"border:1px solid #ffffff ;\">\n",
    "<a href=\"https://www.youtube.com/user/robotprogrammingnet\"><img src=\"img/logo/youtube.png\"></a>\n",
    "</td>\n",
    "</tr>\n",
    "</table>\n"
   ]
  }
 ],
 "metadata": {
  "kernelspec": {
   "display_name": "Python 2",
   "language": "python",
   "name": "python2"
  },
  "language_info": {
   "codemirror_mode": {
    "name": "ipython",
    "version": 2
   },
   "file_extension": ".py",
   "mimetype": "text/x-python",
   "name": "python",
   "nbconvert_exporter": "python",
   "pygments_lexer": "ipython2",
   "version": "2.7.11"
  }
 },
 "nbformat": 4,
 "nbformat_minor": 0
}
