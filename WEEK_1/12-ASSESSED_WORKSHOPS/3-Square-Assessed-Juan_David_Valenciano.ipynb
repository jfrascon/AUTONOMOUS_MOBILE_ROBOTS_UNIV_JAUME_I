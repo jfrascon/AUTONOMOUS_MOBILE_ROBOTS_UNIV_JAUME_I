{
 "cells": [
  {
   "cell_type": "markdown",
   "metadata": {},
   "source": [
    "<img align=\"right\" src=\"../img/square_240.png\" />\n",
    "## Exercise: Square Test.\n",
    "\n",
    "You are going to make a program for describing a square trajectory with the robot.\n",
    "\n",
    "Instead of starting to code from scratch, you are going to reuse the code that you developed for the distance and turning exercises.\n"
   ]
  },
  {
   "cell_type": "markdown",
   "metadata": {},
   "source": [
    "<img align=\"right\" src=\"../img/reload.png\" />\n",
    "### 1. Starting position\n",
    "For a better visual understanding of the task, it is recommended that the robot starts at the center of the room. \n",
    "\n",
    "You can easily relocate the robot there by simply restarting the simulation, by clicking on the second icon of the button bar, as depicted in the figure."
   ]
  },
  {
   "cell_type": "markdown",
   "metadata": {},
   "source": [
    "### 2. Initialization\n",
    "After restarting the simulation, the robot needs to be initialized."
   ]
  },
  {
   "cell_type": "code",
   "execution_count": 12,
   "metadata": {
    "collapsed": false
   },
   "outputs": [],
   "source": [
    "import packages.initialization\n",
    "import pioneer3dx as p3dx\n",
    "p3dx.init()"
   ]
  },
  {
   "cell_type": "markdown",
   "metadata": {},
   "source": [
    "### 3. Program\n",
    "\n",
    "The code is structured in three parts:\n",
    "1. The first part is a function for moving forward: you must copy and paste the code of the [distance exercise](Distance.ipynb) inside the body of the function template, in the following cell.\n",
    "2. The second part is a similar function for turning, where you can copy and paste the code of the [angle exercise](Angle.ipynb).\n",
    "3. Finally, the third part is the main code, consisting of a loop that calls the previous functions four times. The code also displays the pose of the robot (position and orientation) before and after the motion."
   ]
  },
  {
   "cell_type": "code",
   "execution_count": 13,
   "metadata": {
    "collapsed": true
   },
   "outputs": [],
   "source": [
    "def forward():\n",
    "    target = 2000        # target distance\n",
    "    radius = 195.3/2      # wheel radius\n",
    "    Past_Encoder = p3dx.leftEncoder\n",
    "    distance = 0\n",
    "    while distance < target:\n",
    "        p3dx.move(2.5,2.5)\n",
    "    \n",
    "        Actual_Encoder = p3dx.leftEncoder\n",
    "        Encoder_Delta = Actual_Encoder - Past_Encoder\n",
    "        Past_Encoder = Actual_Encoder \n",
    "    \n",
    "        distance = Encoder_Delta*radius + distance\n",
    "    \n",
    "p3dx.stop()"
   ]
  },
  {
   "cell_type": "code",
   "execution_count": 14,
   "metadata": {
    "collapsed": true
   },
   "outputs": [],
   "source": [
    "def turn():\n",
    "    target = 1.5708*2      # target angle in radians\n",
    "    r2l = 1.1836         # wheel radius\n",
    "    Past_Encoder = p3dx.leftEncoder\n",
    "    robotAngle = 0\n",
    "    while robotAngle < target:\n",
    "        p3dx.move(1.5,-1.5)\n",
    "    \n",
    "        Encoder_actual = p3dx.leftEncoder\n",
    "        Encoder_ahora = Encoder_actual - Past_Encoder\n",
    "        Past_Encoder = Encoder_actual\n",
    "    \n",
    "        robotAngle = Encoder_ahora*r2l + robotAngle\n",
    "    \n",
    "p3dx.stop()"
   ]
  },
  {
   "cell_type": "code",
   "execution_count": 15,
   "metadata": {
    "collapsed": false
   },
   "outputs": [
    {
     "name": "stdout",
     "output_type": "stream",
     "text": [
      "Pose of the robot at the start\n",
      "x:   0.00\n",
      "y:   0.00\n",
      "th: -1.57\n",
      "Pose of the robot at the end\n",
      "x:  -0.05\n",
      "y:   0.03\n",
      "th: -1.48\n"
     ]
    }
   ],
   "source": [
    "print('Pose of the robot at the start')\n",
    "p3dx.pose()\n",
    "for _ in range(4):\n",
    "    forward()\n",
    "    turn()\n",
    "print('Pose of the robot at the end')\n",
    "p3dx.pose()\n",
    "p3dx.stop()"
   ]
  },
  {
   "cell_type": "markdown",
   "metadata": {},
   "source": [
    "The trajectory can also be displayed:"
   ]
  },
  {
   "cell_type": "code",
   "execution_count": 16,
   "metadata": {
    "collapsed": false
   },
   "outputs": [
    {
     "data": {
      "image/png": "[encoded data removed]",
      "text/plain": [
       "<matplotlib.figure.Figure at 0x7fe84b29afd0>"
      ]
     },
     "metadata": {},
     "output_type": "display_data"
    }
   ],
   "source": [
    "%matplotlib inline                \n",
    "import matplotlib.pyplot as plt   # WARNING: the first time, this import can take up to 30 seconds\n",
    "x, y = p3dx.trajectory()          # because of font cache building, please be patient and wait\n",
    "plt.plot(x,y);"
   ]
  },
  {
   "cell_type": "markdown",
   "metadata": {},
   "source": [
    "Next exercise: [Robot Speed](Robot%20Speed.ipynb)"
   ]
  },
  {
   "cell_type": "markdown",
   "metadata": {
    "collapsed": true
   },
   "source": [
    "---\n",
    "#### Try-a-Bot: an open source guide for robot programming\n",
    "Developed by:\n",
    "[![Robotic Intelligence Lab @ UJI](img/logo/robinlab.png \"Robotic Intelligence Lab @ UJI\")](http://robinlab.uji.es)\n",
    "\n",
    "Sponsored by:\n",
    "<table>\n",
    "<tr>\n",
    "<td style=\"border:1px solid #ffffff ;\">\n",
    "<a href=\"http://www.ieee-ras.org\"><img src=\"img/logo/ras.png\"></a>\n",
    "</td>\n",
    "<td style=\"border:1px solid #ffffff ;\">\n",
    "<a href=\"http://www.cyberbotics.com\"><img src=\"img/logo/cyberbotics.png\"></a>\n",
    "</td>\n",
    "<td style=\"border:1px solid #ffffff ;\">\n",
    "<a href=\"http://www.theconstructsim.com\"><img src=\"img/logo/theconstruct.png\"></a>\n",
    "</td>\n",
    "</tr>\n",
    "</table>\n",
    "\n",
    "Follow us:\n",
    "<table>\n",
    "<tr>\n",
    "<td style=\"border:1px solid #ffffff ;\">\n",
    "<a href=\"https://www.facebook.com/RobotProgrammingNetwork\"><img src=\"img/logo/facebook.png\"></a>\n",
    "</td>\n",
    "<td style=\"border:1px solid #ffffff ;\">\n",
    "<a href=\"https://www.youtube.com/user/robotprogrammingnet\"><img src=\"img/logo/youtube.png\"></a>\n",
    "</td>\n",
    "</tr>\n",
    "</table>\n"
   ]
  }
 ],
 "metadata": {
  "kernelspec": {
   "display_name": "Python 2",
   "language": "python",
   "name": "python2"
  },
  "language_info": {
   "codemirror_mode": {
    "name": "ipython",
    "version": 2
   },
   "file_extension": ".py",
   "mimetype": "text/x-python",
   "name": "python",
   "nbconvert_exporter": "python",
   "pygments_lexer": "ipython2",
   "version": "2.7.11"
  }
 },
 "nbformat": 4,
 "nbformat_minor": 0
}
