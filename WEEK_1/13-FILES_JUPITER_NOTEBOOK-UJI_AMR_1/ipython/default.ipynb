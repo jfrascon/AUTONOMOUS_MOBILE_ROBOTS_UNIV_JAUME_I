{
 "cells": [
  {
   "cell_type": "markdown",
   "metadata": {},
   "source": [
    "## Welcome to the UJI Autonomous Mobile Robots Online Course\n",
    "\n",
    "In this course you are going to explore and learn with a simulator of the [Pioneer P3-DX mobile robot](http://www.mobilerobots.com/ResearchRobots/PioneerP3DX.aspx).\n",
    "\n",
    "![pioneer3dx](img/p3dx.png \"Pioneer P3-DX\")\n",
    "\n",
    "During the first week, you will learn how a mobile robot moves, and how to program basic functions for sending commands to the motors, and calculating the distance travelled by the robot.\n",
    "## Week 1\n",
    "* [Hello World!](Hello%20World.ipynb)\n",
    "* [Moving the Robot](Moving%20the%20Robot.ipynb)\n",
    "* [Motion Functions](Motion%20Functions.ipynb)\n",
    "* [Encoders](Encoders.ipynb)\n",
    "* [Angles and Distances](Angles%20and%20Distances.ipynb)\n",
    "* Exercises:\n",
    "  1. [Move the robot forward for a given distance](exercises/Distance.ipynb)\n",
    "  2. [Turn the robot right for a given angle](exercises/Angle.ipynb)\n",
    "  3. [Square Test](exercises/Square.ipynb)\n",
    "  4. [Robot Speed](exercises/Robot%20Speed.ipynb)"
   ]
  },
  {
   "cell_type": "markdown",
   "metadata": {},
   "source": [
    "---\n",
    "#### Try-a-Bot: an open source guide for robot programming\n",
    "Developed by:\n",
    "[![Robotic Intelligence Lab @ UJI](img/logo/robinlab.png \"Robotic Intelligence Lab @ UJI\")](http://robinlab.uji.es)\n",
    "\n",
    "Sponsored by:\n",
    "<table>\n",
    "<tr>\n",
    "<td style=\"border:1px solid #ffffff ;\">\n",
    "<a href=\"http://www.ieee-ras.org\"><img src=\"img/logo/ras.png\"></a>\n",
    "</td>\n",
    "<td style=\"border:1px solid #ffffff ;\">\n",
    "<a href=\"http://www.cyberbotics.com\"><img src=\"img/logo/cyberbotics.png\"></a>\n",
    "</td>\n",
    "<td style=\"border:1px solid #ffffff ;\">\n",
    "<a href=\"http://www.theconstructsim.com\"><img src=\"img/logo/theconstruct.png\"></a>\n",
    "</td>\n",
    "</tr>\n",
    "</table>\n",
    "\n",
    "Follow us:\n",
    "<table>\n",
    "<tr>\n",
    "<td style=\"border:1px solid #ffffff ;\">\n",
    "<a href=\"https://www.facebook.com/RobotProgrammingNetwork\"><img src=\"img/logo/facebook.png\"></a>\n",
    "</td>\n",
    "<td style=\"border:1px solid #ffffff ;\">\n",
    "<a href=\"https://www.youtube.com/user/robotprogrammingnet\"><img src=\"img/logo/youtube.png\"></a>\n",
    "</td>\n",
    "</tr>\n",
    "</table>\n"
   ]
  }
 ],
 "metadata": {
  "kernelspec": {
   "display_name": "Python 2",
   "language": "python",
   "name": "python2"
  },
  "language_info": {
   "codemirror_mode": {
    "name": "ipython",
    "version": 2
   },
   "file_extension": ".py",
   "mimetype": "text/x-python",
   "name": "python",
   "nbconvert_exporter": "python",
   "pygments_lexer": "ipython2",
   "version": "2.7.11"
  }
 },
 "nbformat": 4,
 "nbformat_minor": 0
}
