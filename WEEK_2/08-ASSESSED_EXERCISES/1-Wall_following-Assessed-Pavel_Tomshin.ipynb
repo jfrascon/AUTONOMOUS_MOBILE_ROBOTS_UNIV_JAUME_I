{
 "cells": [
  {
   "cell_type": "markdown",
   "metadata": {},
   "source": [
    "[<img align=\"right\" src=\"img/wall_following.png\" />](http://java-player.sourceforge.net/examples-3.php)\n",
    "# Wall Following\n",
    "\n",
    "This is another popular behavior for mobile robots indoors. The robot keeps a constant distance to a lateral wall (either left or right) while moving forward and turning at corners.\n",
    "\n",
    "In this way, the robot can explore rooms or corridors safely.\n",
    "\n",
    "For this application, we are going to implement an algorithm developed by [Radu Bogdan Rusu](https://www.linkedin.com/in/radubogdanrusu) in his [Javaclient Player/Stage Project](http://java-player.sourceforge.net/examples-3.php)."
   ]
  },
  {
   "cell_type": "code",
   "execution_count": 56,
   "metadata": {
    "collapsed": false
   },
   "outputs": [],
   "source": [
    "import packages.initialization\n",
    "import pioneer3dx as p3dx\n",
    "p3dx.init()"
   ]
  },
  {
   "cell_type": "markdown",
   "metadata": {},
   "source": [
    "Define two wall thresholds: the following behavior will try to keep the robot at a distance to the wall between those values."
   ]
  },
  {
   "cell_type": "code",
   "execution_count": 57,
   "metadata": {
    "collapsed": true
   },
   "outputs": [],
   "source": [
    "MIN_WALL_THRESHOLD = 0.3\n",
    "MAX_WALL_THRESHOLD = 0.4"
   ]
  },
  {
   "cell_type": "markdown",
   "metadata": {},
   "source": [
    "Define the default translational and rotational speeds."
   ]
  },
  {
   "cell_type": "code",
   "execution_count": 58,
   "metadata": {
    "collapsed": true
   },
   "outputs": [],
   "source": [
    "DEF_X_SPEED = 0.8       # default forward velocity\n",
    "DEF_YAW_SPEED = 0.6    # default turning velocity"
   ]
  },
  {
   "cell_type": "markdown",
   "metadata": {},
   "source": [
    "We need to control the speed of the robot with the function that computes the angular velocities of the wheels based on the linear and rotational speed of the robot. This function was introduced in the first week of the course."
   ]
  },
  {
   "cell_type": "code",
   "execution_count": 59,
   "metadata": {
    "collapsed": true
   },
   "outputs": [],
   "source": [
    "def move(V_robot,w_robot):\n",
    "    r = 0.1953 / 2\n",
    "    L = 0.33\n",
    "    w_r = (2 * V_robot + L * w_robot) / (2*r)\n",
    "    w_l = (2 * V_robot - L * w_robot) / (2*r)\n",
    "    p3dx.move(w_l, w_r)"
   ]
  },
  {
   "cell_type": "markdown",
   "metadata": {},
   "source": [
    "### Reading the ultrasonic sensors\n",
    "\n",
    "In this implementation, the robot will follow the wall at its left side.\n",
    "\n",
    "We need to implement a function named `getSonars`, which  returns the minimum value of the left sensors (0, 1, 2) and the minimum value of the front sensors (3, 4).\n",
    "\n",
    "As in previous exercises, you can use the built-in `min` function and array slicing."
   ]
  },
  {
   "cell_type": "code",
   "execution_count": 60,
   "metadata": {
    "collapsed": false
   },
   "outputs": [],
   "source": [
    "def getSonars():\n",
    "    leftSide = min(p3dx.distance[0:3])\n",
    "    frontSide = min(p3dx.distance[3:5])\n",
    "    return leftSide, frontSide"
   ]
  },
  {
   "cell_type": "markdown",
   "metadata": {},
   "source": [
    "Before going on with more code, we suggest to make a simple test for the function:"
   ]
  },
  {
   "cell_type": "code",
   "execution_count": 61,
   "metadata": {
    "collapsed": false
   },
   "outputs": [
    {
     "name": "stdout",
     "output_type": "stream",
     "text": [
      "[2.649528980255127, 5.014562129974365, 2.3921959400177, 3.854218006134033, 3.906259059906006, 4.447275638580322, 1.386009693145752, 3.8481287956237793]\n"
     ]
    },
    {
     "data": {
      "text/plain": [
       "(2.3921959400177, 3.854218006134033)"
      ]
     },
     "execution_count": 61,
     "metadata": {},
     "output_type": "execute_result"
    }
   ],
   "source": [
    "print(p3dx.distance)\n",
    "getSonars()"
   ]
  },
  {
   "cell_type": "markdown",
   "metadata": {},
   "source": [
    "No syntax errors? Does it produce the good results? If not, you may edit the function and try again. When eveything works, please proceed with the next code."
   ]
  },
  {
   "cell_type": "markdown",
   "metadata": {},
   "source": [
    "### Getting close to the wall\n",
    "\n",
    "Initially, the robot can be in the middle of the room. Before the wall following behavior is triggered, we need to make sure that the robot is properly located. We will implement a function named `getWall`, which will work in two steps:\n",
    "\n",
    "    1. The robot goes forward until a wall is detected in front of it\n",
    "    2. The robot turns right until it reads a value in sonar 0 smaller than a given threshold\n",
    "        1. if the front distance is smaller than the left distance \n",
    "           turn the robot at x3 speed\n",
    "        2. otherwise turn at default speed"
   ]
  },
  {
   "cell_type": "code",
   "execution_count": 62,
   "metadata": {
    "collapsed": false
   },
   "outputs": [],
   "source": [
    "def getWall():\n",
    "    leftSide, frontSide = getSonars()\n",
    "    # move forward until an obstacle is detected at the front\n",
    "    while MAX_WALL_THRESHOLD<=frontSide:       \n",
    "        move(DEF_X_SPEED,0)\n",
    "        leftSide, frontSide = getSonars()\n",
    "        \n",
    "    # turn until the wall is detected by sonar 0\n",
    "    while p3dx.distance[0]>=MAX_WALL_THRESHOLD:\n",
    "        if frontSide<leftSide:\n",
    "            yawSpeed = -DEF_YAW_SPEED * 20\n",
    "        else:\n",
    "            yawSpeed = -DEF_YAW_SPEED\n",
    "        move(0,yawSpeed)\n",
    "        leftSide, frontSide = getSonars()\n",
    "    move(0,0)"
   ]
  },
  {
   "cell_type": "markdown",
   "metadata": {},
   "source": [
    "Again, let's test the function:"
   ]
  },
  {
   "cell_type": "code",
   "execution_count": 48,
   "metadata": {
    "collapsed": false
   },
   "outputs": [],
   "source": [
    "try:\n",
    "    getWall()\n",
    "except KeyboardInterrupt:\n",
    "    move(0,0)"
   ]
  },
  {
   "cell_type": "markdown",
   "metadata": {},
   "source": [
    "### Main loop\n",
    "\n",
    "Finally, we implement the main loop of Rusu's algorithm:\n",
    "\n",
    "    1. Go ahead and find a wall and align to it on the robot's left side\n",
    "    2. Repeat forever\n",
    "       1. by default, just move forward\n",
    "       2. if we're getting too close to the wall with the front side\n",
    "          go backward and turn right quickly (x4)\n",
    "       3. if we're getting too close to the wall with the left side\n",
    "          move forward slowly (x0.5) and turn right\n",
    "       4. if we're getting too far away from the wall with the left side\n",
    "          move forward slowly (x0.5) and turn left"
   ]
  },
  {
   "cell_type": "code",
   "execution_count": null,
   "metadata": {
    "collapsed": false
   },
   "outputs": [],
   "source": [
    "try:\n",
    "    getWall()\n",
    "    while True:\n",
    "        leftSide, frontSide = getSonars()\n",
    "        # by default, just move forward\n",
    "        xSpeed = DEF_X_SPEED*5\n",
    "        yawSpeed = 0\n",
    "        # if we're getting too close to the wall with the front side...\n",
    "        if frontSide<MAX_WALL_THRESHOLD:\n",
    "            # go backward and turn right quickly (x4)\n",
    "            xSpeed = -DEF_X_SPEED*0.1\n",
    "            yawSpeed = -DEF_YAW_SPEED*10\n",
    "        else:\n",
    "            # if we're getting too close to the wall with the left side...\n",
    "            if leftSide<MIN_WALL_THRESHOLD:\n",
    "                # move slowly forward (x0.5) and turn right\n",
    "                xSpeed  = DEF_X_SPEED*2\n",
    "                yawSpeed = -DEF_YAW_SPEED*10\n",
    "            else:\n",
    "                # if we're getting too far away from the wall with the left side...\n",
    "                if leftSide>MAX_WALL_THRESHOLD:\n",
    "                    # move slowly forward (x0.5) and turn left\n",
    "                    xSpeed  = DEF_X_SPEED*2\n",
    "                    yawSpeed = DEF_YAW_SPEED*10\n",
    "        # Move the robot\n",
    "        move(xSpeed,yawSpeed)\n",
    "except KeyboardInterrupt:\n",
    "    move(0,0)"
   ]
  },
  {
   "cell_type": "markdown",
   "metadata": {},
   "source": [
    "The resulting trajectory of the robot can be plotted."
   ]
  },
  {
   "cell_type": "code",
   "execution_count": 53,
   "metadata": {
    "collapsed": false
   },
   "outputs": [],
   "source": [
    "%matplotlib inline\n",
    "import trajectory"
   ]
  },
  {
   "cell_type": "code",
   "execution_count": 54,
   "metadata": {
    "collapsed": false
   },
   "outputs": [
    {
     "data": {
      "image/png": "[encoded data removed]",
      "text/plain": [
       "<matplotlib.figure.Figure at 0x7f5c5a256390>"
      ]
     },
     "metadata": {},
     "output_type": "display_data"
    }
   ],
   "source": [
    "trajectory.plot()"
   ]
  },
  {
   "cell_type": "markdown",
   "metadata": {},
   "source": [
    "Did it work? If so, congratulations, you have completed the work of this week!"
   ]
  },
  {
   "cell_type": "markdown",
   "metadata": {
    "collapsed": true
   },
   "source": [
    "---\n",
    "#### Try-a-Bot: an open source guide for robot programming\n",
    "Developed by:\n",
    "[![Robotic Intelligence Lab @ UJI](img/logo/robinlab.png \"Robotic Intelligence Lab @ UJI\")](http://robinlab.uji.es)\n",
    "\n",
    "Sponsored by:\n",
    "<table>\n",
    "<tr>\n",
    "<td style=\"border:1px solid #ffffff ;\">\n",
    "<a href=\"http://www.ieee-ras.org\"><img src=\"img/logo/ras.png\"></a>\n",
    "</td>\n",
    "<td style=\"border:1px solid #ffffff ;\">\n",
    "<a href=\"http://www.cyberbotics.com\"><img src=\"img/logo/cyberbotics.png\"></a>\n",
    "</td>\n",
    "<td style=\"border:1px solid #ffffff ;\">\n",
    "<a href=\"http://www.theconstructsim.com\"><img src=\"img/logo/theconstruct.png\"></a>\n",
    "</td>\n",
    "</tr>\n",
    "</table>\n",
    "\n",
    "Follow us:\n",
    "<table>\n",
    "<tr>\n",
    "<td style=\"border:1px solid #ffffff ;\">\n",
    "<a href=\"https://www.facebook.com/RobotProgrammingNetwork\"><img src=\"img/logo/facebook.png\"></a>\n",
    "</td>\n",
    "<td style=\"border:1px solid #ffffff ;\">\n",
    "<a href=\"https://www.youtube.com/user/robotprogrammingnet\"><img src=\"img/logo/youtube.png\"></a>\n",
    "</td>\n",
    "</tr>\n",
    "</table>\n"
   ]
  }
 ],
 "metadata": {
  "kernelspec": {
   "display_name": "Python 2",
   "language": "python",
   "name": "python2"
  },
  "language_info": {
   "codemirror_mode": {
    "name": "ipython",
    "version": 2
   },
   "file_extension": ".py",
   "mimetype": "text/x-python",
   "name": "python",
   "nbconvert_exporter": "python",
   "pygments_lexer": "ipython2",
   "version": "2.7.11"
  }
 },
 "nbformat": 4,
 "nbformat_minor": 0
}
