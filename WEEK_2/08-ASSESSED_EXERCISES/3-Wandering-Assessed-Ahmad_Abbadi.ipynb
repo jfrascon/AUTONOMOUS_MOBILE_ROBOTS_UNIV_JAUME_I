{
 "cells": [
  {
   "cell_type": "code",
   "execution_count": null,
   "metadata": {
    "collapsed": true
   },
   "outputs": [],
   "source": [
    "import packages.initialization\n",
    "import pioneer3dx as p3dx\n",
    "p3dx.init()"
   ]
  },
  {
   "cell_type": "code",
   "execution_count": null,
   "metadata": {
    "collapsed": false
   },
   "outputs": [],
   "source": [
    "def forward():\n",
    "    front_dis=min(p3dx.distance[3],p3dx.distance[3])\n",
    "    left_min_dis = min(p3dx.distance[0:3])\n",
    "    right_min_dis= min(p3dx.distance[5:])\n",
    "    \n",
    "    while front_dis >1 and left_min_dis > 0.1 and right_min_dis > 0.1:\n",
    "        p3dx.move(4,4)\n",
    "        left_min_dis = min(p3dx.distance[0:3])\n",
    "        right_min_dis= min(p3dx.distance[5:])\n",
    "        front_dis=min(p3dx.distance[3],p3dx.distance[3])"
   ]
  },
  {
   "cell_type": "code",
   "execution_count": null,
   "metadata": {
    "collapsed": true
   },
   "outputs": [],
   "source": [
    "def turn():\n",
    "    left_min_dis = min(p3dx.distance[0:3])\n",
    "    right_min_dis= min(p3dx.distance[5:])\n",
    "    if (left_min_dis > right_min_dis):\n",
    "        while min(p3dx.distance[3:5]) < 1:\n",
    "            p3dx.move(-1.5,1)\n",
    "    else:\n",
    "        while min(p3dx.distance[3:5]) < 1:\n",
    "            p3dx.move(1,-1.5)\n"
   ]
  },
  {
   "cell_type": "code",
   "execution_count": null,
   "metadata": {
    "collapsed": true
   },
   "outputs": [],
   "source": [
    "    %matplotlib inline\n",
    "    import trajectory"
   ]
  },
  {
   "cell_type": "code",
   "execution_count": null,
   "metadata": {
    "collapsed": false
   },
   "outputs": [],
   "source": [
    "try:\n",
    "    while True:\n",
    "        forward()\n",
    "        turn()\n",
    "except KeyboardInterrupt:\n",
    "    p3dx.stop()\n",
    "    trajectory.plot()\n",
    "\n",
    "    "
   ]
  },
  {
   "cell_type": "code",
   "execution_count": null,
   "metadata": {
    "collapsed": true
   },
   "outputs": [],
   "source": []
  }
 ],
 "metadata": {
  "kernelspec": {
   "display_name": "Python 2",
   "language": "python",
   "name": "python2"
  },
  "language_info": {
   "codemirror_mode": {
    "name": "ipython",
    "version": 2
   },
   "file_extension": ".py",
   "mimetype": "text/x-python",
   "name": "python",
   "nbconvert_exporter": "python",
   "pygments_lexer": "ipython2",
   "version": "2.7.11"
  }
 },
 "nbformat": 4,
 "nbformat_minor": 0
}
