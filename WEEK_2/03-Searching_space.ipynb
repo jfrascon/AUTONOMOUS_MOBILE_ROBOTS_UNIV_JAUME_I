{
 "cells": [
  {
   "cell_type": "markdown",
   "metadata": {},
   "source": [
    "# Searching for Free Space\n",
    "\n",
    "After an obstacle is detected, the robot must turn either left or right in search for free space, and move forward again.\n",
    "\n",
    "<img align=\"right\" src=\"img/free_choice.png\" />\n",
    "Here is one possible solution:\n",
    "\n",
    "* `Find the minimum of the left sensors (0, 1, 2)`\n",
    "* `Find the minimum of the right sensors (5, 6, 7)`\n",
    "* `If the left minimum is bigger than the right minimum`\n",
    "  * `Turn left`\n",
    "* `Else`\n",
    "  * `Turn right`\n",
    "* `In any case, keep turning until both front sensors (3, 4) are bigger than the chosen minimum`\n",
    "\n",
    "In the sample figure, the robot would turn right, since the minimum of the right side sensors (green arc) is bigger than the one of the left side (red arc)."
   ]
  },
  {
   "cell_type": "code",
   "execution_count": 3,
   "metadata": {
    "collapsed": false
   },
   "outputs": [],
   "source": [
    "import packages.initialization\n",
    "import pioneer3dx as p3dx\n",
    "p3dx.init()"
   ]
  },
  {
   "cell_type": "markdown",
   "metadata": {},
   "source": [
    "#### Minimum and maximum of an array\n",
    "\n",
    "For finding the minimum and maximum of an array, you can use the [Python built-in functions min and max](https://docs.python.org/2/library/functions.html#max)."
   ]
  },
  {
   "cell_type": "code",
   "execution_count": 4,
   "metadata": {
    "collapsed": false
   },
   "outputs": [
    {
     "data": {
      "text/plain": [
       "[0.822314977645874,\n",
       " 1.107301115989685,\n",
       " 1.1228526830673218,\n",
       " 0.9759001135826111,\n",
       " 0.9870963096618652,\n",
       " 1.1230719089508057,\n",
       " 1.5802762508392334,\n",
       " 3.8271193504333496]"
      ]
     },
     "execution_count": 4,
     "metadata": {},
     "output_type": "execute_result"
    }
   ],
   "source": [
    "p3dx.distance"
   ]
  },
  {
   "cell_type": "code",
   "execution_count": 5,
   "metadata": {
    "collapsed": false
   },
   "outputs": [
    {
     "data": {
      "text/plain": [
       "0.8090829849243164"
      ]
     },
     "execution_count": 5,
     "metadata": {},
     "output_type": "execute_result"
    }
   ],
   "source": [
    "min(p3dx.distance)"
   ]
  },
  {
   "cell_type": "code",
   "execution_count": 6,
   "metadata": {
    "collapsed": false
   },
   "outputs": [
    {
     "data": {
      "text/plain": [
       "3.745323657989502"
      ]
     },
     "execution_count": 6,
     "metadata": {},
     "output_type": "execute_result"
    }
   ],
   "source": [
    "max(p3dx.distance)"
   ]
  },
  {
   "cell_type": "markdown",
   "metadata": {},
   "source": [
    "You can use only some values of the array, with the [Python slice notation for lists](http://stackoverflow.com/questions/509211/explain-pythons-slice-notation):"
   ]
  },
  {
   "cell_type": "code",
   "execution_count": 7,
   "metadata": {
    "collapsed": false
   },
   "outputs": [
    {
     "data": {
      "text/plain": [
       "[0.8257567286491394, 1.1148502826690674, 1.1353843212127686]"
      ]
     },
     "execution_count": 7,
     "metadata": {},
     "output_type": "execute_result"
    }
   ],
   "source": [
    "# left sensors (0,1,2)\n",
    "p3dx.distance[0:3]"
   ]
  },
  {
   "cell_type": "code",
   "execution_count": 8,
   "metadata": {
    "collapsed": false
   },
   "outputs": [
    {
     "data": {
      "text/plain": [
       "[0.9862480759620667, 0.9806881546974182]"
      ]
     },
     "execution_count": 8,
     "metadata": {},
     "output_type": "execute_result"
    }
   ],
   "source": [
    "# front sensors (3,4)\n",
    "p3dx.distance[3:5]"
   ]
  },
  {
   "cell_type": "code",
   "execution_count": 9,
   "metadata": {
    "collapsed": false
   },
   "outputs": [
    {
     "data": {
      "text/plain": [
       "[1.1138113737106323, 1.6000301837921143, 3.793931007385254]"
      ]
     },
     "execution_count": 9,
     "metadata": {},
     "output_type": "execute_result"
    }
   ],
   "source": [
    "# right sensors (5,6,7)\n",
    "p3dx.distance[5:]"
   ]
  },
  {
   "cell_type": "markdown",
   "metadata": {},
   "source": [
    "#### Exercise\n",
    "\n",
    "Implement the above-mentioned algorithm for turning towards free space:\n",
    "* `Find the minimum of the left sensors (0, 1, 2)`\n",
    "* `Find the minimum of the right sensors (5, 6, 7)`\n",
    "* `If the left minimum is bigger than the right minimum`\n",
    "  * `Turn left`\n",
    "* `Else`\n",
    "  * `Turn right`\n",
    "* `In any case, keep turning until both front sensors (3, 4) are bigger than the chosen minimum`"
   ]
  },
  {
   "cell_type": "code",
   "execution_count": 10,
   "metadata": {
    "collapsed": false
   },
   "outputs": [],
   "source": [
    "threshold = 1 # in meters\n",
    "min_left_dist  = p3dx.distance[0:3]\n",
    "min_right_dist = p3dx.distance[5:]\n",
    "if min_left_dist > min_right_dist:\n",
    "    wl = -1\n",
    "    wr = 1\n",
    "else:\n",
    "    wl = 1\n",
    "    wr = -1\n",
    "while p3dx.distance[3] < threshold or p3dx.distance[4] < threshold:\n",
    "    p3dx.move(wl, wr)\n",
    "p3dx.stop()"
   ]
  },
  {
   "cell_type": "markdown",
   "metadata": {},
   "source": [
    "You can plot a diagram with the resulting position of the robot in the environment, and the measurements of the ultrasonic sensors."
   ]
  },
  {
   "cell_type": "code",
   "execution_count": 11,
   "metadata": {
    "collapsed": false
   },
   "outputs": [],
   "source": [
    "%matplotlib inline\n",
    "import ultrasonic"
   ]
  },
  {
   "cell_type": "code",
   "execution_count": 12,
   "metadata": {
    "collapsed": false
   },
   "outputs": [
    {
     "data": {
      "image/png": "[encoded data removed]",
      "text/plain": [
       "<matplotlib.figure.Figure at 0x7f9bd6d01f10>"
      ]
     },
     "metadata": {},
     "output_type": "display_data"
    }
   ],
   "source": [
    "ultrasonic.plot()"
   ]
  },
  {
   "cell_type": "markdown",
   "metadata": {},
   "source": [
    "Let's put together the last two exercises in a simple application: [wandering](Wandering.ipynb)."
   ]
  },
  {
   "cell_type": "markdown",
   "metadata": {
    "collapsed": true
   },
   "source": [
    "---\n",
    "#### Try-a-Bot: an open source guide for robot programming\n",
    "Developed by:\n",
    "[![Robotic Intelligence Lab @ UJI](img/logo/robinlab.png \"Robotic Intelligence Lab @ UJI\")](http://robinlab.uji.es)\n",
    "\n",
    "Sponsored by:\n",
    "<table>\n",
    "<tr>\n",
    "<td style=\"border:1px solid #ffffff ;\">\n",
    "<a href=\"http://www.ieee-ras.org\"><img src=\"img/logo/ras.png\"></a>\n",
    "</td>\n",
    "<td style=\"border:1px solid #ffffff ;\">\n",
    "<a href=\"http://www.cyberbotics.com\"><img src=\"img/logo/cyberbotics.png\"></a>\n",
    "</td>\n",
    "<td style=\"border:1px solid #ffffff ;\">\n",
    "<a href=\"http://www.theconstructsim.com\"><img src=\"img/logo/theconstruct.png\"></a>\n",
    "</td>\n",
    "</tr>\n",
    "</table>\n",
    "\n",
    "Follow us:\n",
    "<table>\n",
    "<tr>\n",
    "<td style=\"border:1px solid #ffffff ;\">\n",
    "<a href=\"https://www.facebook.com/RobotProgrammingNetwork\"><img src=\"img/logo/facebook.png\"></a>\n",
    "</td>\n",
    "<td style=\"border:1px solid #ffffff ;\">\n",
    "<a href=\"https://www.youtube.com/user/robotprogrammingnet\"><img src=\"img/logo/youtube.png\"></a>\n",
    "</td>\n",
    "</tr>\n",
    "</table>\n"
   ]
  }
 ],
 "metadata": {
  "kernelspec": {
   "display_name": "Python 2",
   "language": "python",
   "name": "python2"
  },
  "language_info": {
   "codemirror_mode": {
    "name": "ipython",
    "version": 2
   },
   "file_extension": ".py",
   "mimetype": "text/x-python",
   "name": "python",
   "nbconvert_exporter": "python",
   "pygments_lexer": "ipython2",
   "version": "2.7.11"
  }
 },
 "nbformat": 4,
 "nbformat_minor": 0
}
